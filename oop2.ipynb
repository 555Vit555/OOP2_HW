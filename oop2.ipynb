{
 "cells": [
  {
   "cell_type": "code",
   "execution_count": 16,
   "metadata": {},
   "outputs": [
    {
     "name": "stdout",
     "output_type": "stream",
     "text": [
      "[8, 9, 10]\n",
      "3\n"
     ]
    }
   ],
   "source": [
    "class Student:\n",
    "    def __init__(self, name, surname, gender):\n",
    "        self.name = name\n",
    "        self.surname = surname\n",
    "        self.gender = gender\n",
    "        self.finished_courses = []\n",
    "        self.courses_in_progress = []\n",
    "        self.grades = {}\n",
    "        self.sum_grades = 0\n",
    "    def rate_lecturer(self, lecturer, course, grade):\n",
    "        if isinstance(lecturer, Lecturer) and course in lecturer.courses_attached and course in self.courses_in_progress:\n",
    "            if course in lecturer.grades_l:\n",
    "                lecturer.grades_l[course] += [grade]\n",
    "            else:\n",
    "                lecturer.grades_l[course] = [grade]\n",
    "        else:\n",
    "            return 'Ошибка'\n",
    "    def __str__(self):\n",
    "        # for i in self.grades[self.courses_in_progress]:\n",
    "        #     self.sum_grades = self.sum_grades + self.grades[self.courses_in_progress][i]\n",
    "        #average_grade = sum_grades/ len(self.grades[self.courses_in_progress])\n",
    "        #student_str = f'Имя: {self.name}Фамилия: {self.surname}\\n  Курсы в процессе изучения: {self.courses_in_progress}\\n\\nСредняя оценка за домашние задания: {self.sum_grades}\\nЗавершенные курсы: {self.finished_courses}'\n",
    "        #\\nСредняя оценка за домашние задания: {self.sum_grades/ len(self.grades[self.courses_in_progress])}\n",
    "        student_str = self.grades[(self.courses_in_progress)]\n",
    "        return student_str\n",
    "   \n",
    "\n",
    "            \n",
    "        \n",
    "class Mentor:\n",
    "    def __init__(self, name, surname):\n",
    "        self.name = name\n",
    "        self.surname = surname\n",
    "        self.courses_attached = []\n",
    "        \n",
    "    \n",
    "class Lecturer(Mentor):\n",
    "    def __init__(self, name, surname):\n",
    "        self.grades_l = {}\n",
    "        self.courses_attached = []\n",
    "\n",
    "        \n",
    "        \n",
    "        \n",
    "class Reviewer(Mentor):\n",
    "    def rate_hw(self, student, course, grade):\n",
    "        if isinstance(student, Student) and course in self.courses_attached and course in student.courses_in_progress:\n",
    "            if course in student.grades:\n",
    "                student.grades[course] += [grade]\n",
    "            else:\n",
    "                student.grades[course] = [grade]\n",
    "        else:\n",
    "            return 'Ошибка'\n",
    "\n",
    " \n",
    "best_student = Student('Ruoy', 'Eman', 'your_gender')\n",
    "best_student.courses_in_progress += ['Python']\n",
    " \n",
    "cool_reviewer = Reviewer('Some', 'Buddy')\n",
    "cool_reviewer.courses_attached += ['Python']\n",
    " \n",
    "cool_reviewer.rate_hw(best_student, 'Python', 8)\n",
    "cool_reviewer.rate_hw(best_student, 'Python', 9)\n",
    "cool_reviewer.rate_hw(best_student, 'Python', 10)\n",
    " \n",
    "print(best_student.grades[\"Python\"])\n",
    "print(len(best_student.grades[\"Python\"]))"
   ]
  },
  {
   "cell_type": "code",
   "execution_count": 17,
   "metadata": {},
   "outputs": [
    {
     "ename": "KeyError",
     "evalue": "\"['Python']\"",
     "output_type": "error",
     "traceback": [
      "\u001b[1;31m---------------------------------------------------------------------------\u001b[0m",
      "\u001b[1;31mKeyError\u001b[0m                                  Traceback (most recent call last)",
      "Cell \u001b[1;32mIn[17], line 30\u001b[0m\n\u001b[0;32m     28\u001b[0m student6\u001b[39m.\u001b[39mrate_lecturer(lecturer2,\u001b[39m'\u001b[39m\u001b[39mPython2\u001b[39m\u001b[39m'\u001b[39m, \u001b[39m10\u001b[39m)\n\u001b[0;32m     29\u001b[0m \u001b[39m#print(lecturer2.grades_l)\u001b[39;00m\n\u001b[1;32m---> 30\u001b[0m \u001b[39mprint\u001b[39;49m(best_student)\n",
      "Cell \u001b[1;32mIn[16], line 24\u001b[0m, in \u001b[0;36mStudent.__str__\u001b[1;34m(self)\u001b[0m\n\u001b[0;32m     18\u001b[0m \u001b[39mdef\u001b[39;00m \u001b[39m__str__\u001b[39m(\u001b[39mself\u001b[39m):\n\u001b[0;32m     19\u001b[0m     \u001b[39m# for i in self.grades[self.courses_in_progress]:\u001b[39;00m\n\u001b[0;32m     20\u001b[0m     \u001b[39m#     self.sum_grades = self.sum_grades + self.grades[self.courses_in_progress][i]\u001b[39;00m\n\u001b[0;32m     21\u001b[0m     \u001b[39m#average_grade = sum_grades/ len(self.grades[self.courses_in_progress])\u001b[39;00m\n\u001b[0;32m     22\u001b[0m     \u001b[39m#student_str = f'Имя: {self.name}Фамилия: {self.surname}\\n  Курсы в процессе изучения: {self.courses_in_progress}\\n\\nСредняя оценка за домашние задания: {self.sum_grades}\\nЗавершенные курсы: {self.finished_courses}'\u001b[39;00m\n\u001b[0;32m     23\u001b[0m     \u001b[39m#\\nСредняя оценка за домашние задания: {self.sum_grades/ len(self.grades[self.courses_in_progress])}\u001b[39;00m\n\u001b[1;32m---> 24\u001b[0m     student_str \u001b[39m=\u001b[39m \u001b[39mself\u001b[39;49m\u001b[39m.\u001b[39;49mgrades[\u001b[39mstr\u001b[39;49m(\u001b[39mself\u001b[39;49m\u001b[39m.\u001b[39;49mcourses_in_progress)]\n\u001b[0;32m     25\u001b[0m     \u001b[39mreturn\u001b[39;00m student_str\n",
      "\u001b[1;31mKeyError\u001b[0m: \"['Python']\""
     ]
    }
   ],
   "source": [
    "student1 = Student('Ruoy1', 'Eman1', 'your_gender')\n",
    "student1.courses_in_progress += ['Python1']\n",
    "student2 = Student('Ruoy2', 'Eman2', 'your_gender')\n",
    "student2.courses_in_progress += ['Python1']\n",
    "student3 = Student('Ruoy3', 'Eman3', 'your_gender')\n",
    "student3.courses_in_progress += ['Python1']\n",
    "student4 = Student('Ruoy4', 'Eman4', 'your_gender')\n",
    "student4.courses_in_progress += ['Python2']\n",
    "student5 = Student('Ruoy5', 'Eman5', 'your_gender')\n",
    "student5.courses_in_progress += ['Python2']\n",
    "student6 = Student('Ruoy6', 'Eman6', 'your_gender')\n",
    "student6.courses_in_progress += ['Python2']\n",
    "reviewer1 = Reviewer('Some1', 'Buddy1')\n",
    "reviewer1.courses_attached += ['Python1']\n",
    "reviewer2 = Reviewer('Some2', 'Buddy2')\n",
    "reviewer2.courses_attached += ['Python1']\n",
    "reviewer3 = Reviewer('Some3', 'Buddy3')\n",
    "reviewer3.courses_attached += ['Python1']\n",
    "reviewer4 = Reviewer('Some4', 'Buddy4')\n",
    "reviewer4.courses_attached += ['Python2']\n",
    "reviewer5 = Reviewer('Some5', 'Buddy5')\n",
    "reviewer5.courses_attached += ['Python2']\n",
    "lecturer1 = Lecturer('Some6', 'Buddy6')\n",
    "lecturer1.courses_attached += ['Python1']\n",
    "lecturer2 = Lecturer('Some7', 'Buddy7')\n",
    "lecturer2.courses_attached += ['Python2']\n",
    "#####test####\n",
    "student6.rate_lecturer(lecturer2,'Python2', 10)\n",
    "#print(lecturer2.grades_l)\n",
    "print(best_student)"
   ]
  },
  {
   "cell_type": "code",
   "execution_count": 61,
   "metadata": {},
   "outputs": [
    {
     "name": "stdout",
     "output_type": "stream",
     "text": [
      "{}\n"
     ]
    }
   ],
   "source": []
  }
 ],
 "metadata": {
  "kernelspec": {
   "display_name": "Python 3",
   "language": "python",
   "name": "python3"
  },
  "language_info": {
   "codemirror_mode": {
    "name": "ipython",
    "version": 3
   },
   "file_extension": ".py",
   "mimetype": "text/x-python",
   "name": "python",
   "nbconvert_exporter": "python",
   "pygments_lexer": "ipython3",
   "version": "3.10.8"
  },
  "orig_nbformat": 4
 },
 "nbformat": 4,
 "nbformat_minor": 2
}
